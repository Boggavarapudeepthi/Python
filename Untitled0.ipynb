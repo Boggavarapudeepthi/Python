{
  "nbformat": 4,
  "nbformat_minor": 0,
  "metadata": {
    "colab": {
      "provenance": [],
      "authorship_tag": "ABX9TyNhgen8S585S/xRkKX/eg4i",
      "include_colab_link": true
    },
    "kernelspec": {
      "name": "python3",
      "display_name": "Python 3"
    },
    "language_info": {
      "name": "python"
    }
  },
  "cells": [
    {
      "cell_type": "markdown",
      "metadata": {
        "id": "view-in-github",
        "colab_type": "text"
      },
      "source": [
        "<a href=\"https://colab.research.google.com/github/Boggavarapudeepthi/Python/blob/main/Untitled0.ipynb\" target=\"_parent\"><img src=\"https://colab.research.google.com/assets/colab-badge.svg\" alt=\"Open In Colab\"/></a>"
      ]
    },
    {
      "cell_type": "code",
      "source": [
        "n=int(input())\n",
        "list=list(map(int, input(). split()))\n",
        "negative =[]\n",
        "positive =[]\n",
        "for i in list:\n",
        "    if i<0:\n",
        "       negative. append(i)\n",
        "else:\n",
        "       positive. append(i)\n",
        "result=negative + positive\n",
        "print (*result)"
      ],
      "metadata": {
        "colab": {
          "base_uri": "https://localhost:8080/"
        },
        "id": "9p4AtO-uVXIF",
        "outputId": "bbe9d508-6291-4995-a453-9ded5f03a3aa"
      },
      "execution_count": null,
      "outputs": [
        {
          "output_type": "stream",
          "name": "stdout",
          "text": [
            "1\n",
            "2\n",
            "2\n"
          ]
        }
      ]
    },
    {
      "cell_type": "code",
      "execution_count": null,
      "metadata": {
        "colab": {
          "base_uri": "https://localhost:8080/"
        },
        "id": "s23qiYObQDON",
        "outputId": "da3660ea-776c-478d-e64d-90834de08359"
      },
      "outputs": [
        {
          "output_type": "stream",
          "name": "stdout",
          "text": [
            "1\n",
            "2\n",
            "0\n"
          ]
        }
      ],
      "source": [
        "n=int(input ())\n",
        "arr=list(map(int, input(). split()))\n",
        "count=0\n",
        "for i in range(n):\n",
        "    for j in range(i+1,n):\n",
        "        if arr[i]>arr[j] :\n",
        "            count+=1\n",
        "print(count)"
      ]
    },
    {
      "cell_type": "code",
      "source": [
        "n=int(input())\n",
        "mat=[list(map(int, input(). split())) for i in range (n)]\n",
        "rot=[[0]*n for i in range (n)]\n",
        "for i in range (n) :\n",
        "    for j in range (n) :\n",
        "        rot[j] [n-1-i]=mat[i][j]\n",
        "for row in rot:\n",
        "    print(*row)"
      ],
      "metadata": {
        "colab": {
          "base_uri": "https://localhost:8080/"
        },
        "id": "HcTYrbijNL3o",
        "outputId": "3dfe2a37-8421-4e66-beee-e437f2d3a4c9"
      },
      "execution_count": null,
      "outputs": [
        {
          "output_type": "stream",
          "name": "stdout",
          "text": [
            "1\n",
            "2\n",
            "2\n"
          ]
        }
      ]
    }
  ]
}