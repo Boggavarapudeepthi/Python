{
  "nbformat": 4,
  "nbformat_minor": 0,
  "metadata": {
    "colab": {
      "provenance": [],
      "authorship_tag": "ABX9TyO+2sTwH48+LvOxh6YRaFe+",
      "include_colab_link": true
    },
    "kernelspec": {
      "name": "python3",
      "display_name": "Python 3"
    },
    "language_info": {
      "name": "python"
    }
  },
  "cells": [
    {
      "cell_type": "markdown",
      "metadata": {
        "id": "view-in-github",
        "colab_type": "text"
      },
      "source": [
        "<a href=\"https://colab.research.google.com/github/Boggavarapudeepthi/Python/blob/main/Problems.ipynb\" target=\"_parent\"><img src=\"https://colab.research.google.com/assets/colab-badge.svg\" alt=\"Open In Colab\"/></a>"
      ]
    },
    {
      "cell_type": "code",
      "execution_count": null,
      "metadata": {
        "colab": {
          "base_uri": "https://localhost:8080/"
        },
        "id": "eS83pGI5nDmn",
        "outputId": "34d4b71f-bb39-4b0c-8a42-1991a33b728e"
      },
      "outputs": [
        {
          "output_type": "stream",
          "name": "stdout",
          "text": [
            "{2, 3, 4}\n"
          ]
        }
      ],
      "source": [
        "a={1,2,3, 4}\n",
        "b={2,3,4,5}\n",
        "c={0,2,3,4}\n",
        "x=a&b&c\n",
        "print(x)"
      ]
    },
    {
      "cell_type": "code",
      "source": [
        "a=\"deepthi\"\n",
        "b=\"\"\n",
        "for i in a:\n",
        "    if i not in b:\n",
        "        b=b+i\n",
        "print(b)"
      ],
      "metadata": {
        "colab": {
          "base_uri": "https://localhost:8080/"
        },
        "id": "qx_CqTXyn7PH",
        "outputId": "b98f4b35-b113-4c2b-b02a-72dbdc730d76"
      },
      "execution_count": null,
      "outputs": [
        {
          "output_type": "stream",
          "name": "stdout",
          "text": [
            "depthi\n"
          ]
        }
      ]
    },
    {
      "cell_type": "code",
      "source": [
        "#prime number\n",
        "n=int(input())\n",
        "for num in range(2,n):\n",
        "   for i in range (2,num):\n",
        "      if(num%i==0):\n",
        "         break\n",
        "   else:\n",
        "      print(num,end=\" \")"
      ],
      "metadata": {
        "colab": {
          "base_uri": "https://localhost:8080/"
        },
        "id": "4EHE_p6csaFY",
        "outputId": "abf6e7c7-6e59-46cd-acb2-797a759c3917"
      },
      "execution_count": null,
      "outputs": [
        {
          "output_type": "stream",
          "name": "stdout",
          "text": [
            "20\n",
            "2 3 5 7 11 13 17 19 "
          ]
        }
      ]
    },
    {
      "cell_type": "code",
      "source": [
        "#factorial problem\n",
        "n=int(input())\n",
        "fact=1\n",
        "for i in range (1,n+1):\n",
        "    fact*=i\n",
        "print(fact)"
      ],
      "metadata": {
        "colab": {
          "base_uri": "https://localhost:8080/"
        },
        "id": "U3KpBm_Xvx63",
        "outputId": "d6d23b20-74f1-4571-d654-e1038f5e1892"
      },
      "execution_count": null,
      "outputs": [
        {
          "output_type": "stream",
          "name": "stdout",
          "text": [
            "13\n",
            "6227020800\n"
          ]
        }
      ]
    },
    {
      "cell_type": "code",
      "source": [
        "#leap year\n",
        "Year=int(input())\n",
        "if(Year%4==0 and Year%100!=0)or(Year%400==0):\n",
        "   print(\"leap Year\")\n",
        "else:\n",
        "   print(\"not leap Year\")"
      ],
      "metadata": {
        "colab": {
          "base_uri": "https://localhost:8080/"
        },
        "id": "YtDD1OXVzZ9_",
        "outputId": "03019057-a759-41c2-f8ab-379ca07c3bd2"
      },
      "execution_count": null,
      "outputs": [
        {
          "output_type": "stream",
          "name": "stdout",
          "text": [
            "3000\n",
            "not leap Year\n"
          ]
        }
      ]
    },
    {
      "cell_type": "code",
      "source": [
        "#febnoki series\n",
        "n=int(input())\n",
        "a,b=0,1\n",
        "for i in range(n):\n",
        "   print(a, end=\" \")\n",
        "   a,b=b,a+b"
      ],
      "metadata": {
        "colab": {
          "base_uri": "https://localhost:8080/"
        },
        "id": "z3fHXzaW10VU",
        "outputId": "d9bf2c35-0514-4692-9c60-2b56566251d3"
      },
      "execution_count": null,
      "outputs": [
        {
          "output_type": "stream",
          "name": "stdout",
          "text": [
            "8\n",
            "0 1 1 2 3 5 8 13 "
          ]
        }
      ]
    },
    {
      "cell_type": "code",
      "source": [],
      "metadata": {
        "id": "eIYHnWQSaTWq"
      },
      "execution_count": null,
      "outputs": []
    },
    {
      "cell_type": "code",
      "source": [
        "#Count#\n",
        "n=int(input())\n",
        "count=0\n",
        "while n>0:\n",
        "   n=n//10\n",
        "   count+=1\n",
        "print(count)"
      ],
      "metadata": {
        "colab": {
          "base_uri": "https://localhost:8080/"
        },
        "id": "t0YGJQAz44cW",
        "outputId": "a503818a-a8eb-4871-fe64-612c5e3759e8"
      },
      "execution_count": null,
      "outputs": [
        {
          "output_type": "stream",
          "name": "stdout",
          "text": [
            "5\n",
            "1\n"
          ]
        }
      ]
    },
    {
      "cell_type": "code",
      "source": [
        "n=input()\n",
        "count=0\n",
        "for i in str(n):\n",
        "   count+=1\n",
        "print(count)"
      ],
      "metadata": {
        "colab": {
          "base_uri": "https://localhost:8080/"
        },
        "id": "bCABL4s7585w",
        "outputId": "77bdb13e-f6a2-48f8-ee00-8a17631c388b"
      },
      "execution_count": null,
      "outputs": [
        {
          "output_type": "stream",
          "name": "stdout",
          "text": [
            "Deepthi\n",
            "7\n"
          ]
        }
      ]
    },
    {
      "cell_type": "code",
      "source": [
        "n=int(input())\n",
        "s=str(n)\n",
        "if(s==s[::-1]):\n",
        "   print(\"palindrom\")\n",
        "else:\n",
        "   print(\"not palindrom\")"
      ],
      "metadata": {
        "colab": {
          "base_uri": "https://localhost:8080/"
        },
        "id": "vS12sfrh86bi",
        "outputId": "65cdc60f-2e8f-4b10-d72f-2f81acd8c6b5"
      },
      "execution_count": null,
      "outputs": [
        {
          "output_type": "stream",
          "name": "stdout",
          "text": [
            "121\n",
            "palindrom\n"
          ]
        }
      ]
    },
    {
      "cell_type": "code",
      "source": [
        "a=input()\n",
        "if a==a[::-1]:\n",
        "   print(\"palindrom\")\n",
        "else:\n",
        "   print(\"not palindrom\")"
      ],
      "metadata": {
        "colab": {
          "base_uri": "https://localhost:8080/"
        },
        "id": "yf-klfJdTokp",
        "outputId": "24c56780-3473-4676-9243-b07ba659e670"
      },
      "execution_count": null,
      "outputs": [
        {
          "output_type": "stream",
          "name": "stdout",
          "text": [
            "MADAM\n",
            "palindrom\n"
          ]
        }
      ]
    },
    {
      "cell_type": "code",
      "source": [
        "\n",
        "num = int(input(\"Enter a number: \"))\n",
        "\n",
        "for i in range(1, 11):\n",
        "    print(f\"{num} x {i} = {num * i}\")"
      ],
      "metadata": {
        "colab": {
          "base_uri": "https://localhost:8080/"
        },
        "id": "XUpuTLO7326M",
        "outputId": "fad31bea-884f-46ac-beb6-131988f98365"
      },
      "execution_count": null,
      "outputs": [
        {
          "output_type": "stream",
          "name": "stdout",
          "text": [
            "Enter a number: 5\n",
            "5 x 1 = 5\n",
            "5 x 2 = 10\n",
            "5 x 3 = 15\n",
            "5 x 4 = 20\n",
            "5 x 5 = 25\n",
            "5 x 6 = 30\n",
            "5 x 7 = 35\n",
            "5 x 8 = 40\n",
            "5 x 9 = 45\n",
            "5 x 10 = 50\n"
          ]
        }
      ]
    },
    {
      "cell_type": "code",
      "source": [
        "n = int(input(\"Enter a number: \"))\n",
        "sum=0\n",
        "for i in range(1,n+1):\n",
        "    print(n+i)"
      ],
      "metadata": {
        "colab": {
          "base_uri": "https://localhost:8080/"
        },
        "id": "WA1LGANWAghN",
        "outputId": "e5987fd4-3071-4d28-9013-14e9c1577565"
      },
      "execution_count": null,
      "outputs": [
        {
          "output_type": "stream",
          "name": "stdout",
          "text": [
            "Enter a number: 7\n",
            "8\n",
            "9\n",
            "10\n",
            "11\n",
            "12\n",
            "13\n",
            "14\n"
          ]
        }
      ]
    },
    {
      "cell_type": "code",
      "source": [
        "n = int(input(\"Enter a number: \"))\n",
        "sum = 0\n",
        "for i in range(1, n + 1):\n",
        "    sum+= i\n",
        "print(sum)"
      ],
      "metadata": {
        "colab": {
          "base_uri": "https://localhost:8080/"
        },
        "id": "L__9ubYcCGMf",
        "outputId": "0974e297-9305-4d65-8f1a-eb17e7fb4f25"
      },
      "execution_count": null,
      "outputs": [
        {
          "output_type": "stream",
          "name": "stdout",
          "text": [
            "Enter a number: 4\n",
            "10\n"
          ]
        }
      ]
    },
    {
      "cell_type": "code",
      "source": [
        "n = int(input())\n",
        "rev = 0\n",
        "\n",
        "while n > 0:\n",
        "    rev = rev * 10 + (n % 10)\n",
        "    n = n// 10\n",
        "\n",
        "print(rev)"
      ],
      "metadata": {
        "colab": {
          "base_uri": "https://localhost:8080/"
        },
        "id": "LipF_FexDiEQ",
        "outputId": "98014fc8-c442-4e81-bc1d-aa3e972589a7"
      },
      "execution_count": null,
      "outputs": [
        {
          "output_type": "stream",
          "name": "stdout",
          "text": [
            "5678\n",
            "8765\n"
          ]
        }
      ]
    },
    {
      "cell_type": "code",
      "source": [],
      "metadata": {
        "id": "ZQXymwSbaSIS"
      },
      "execution_count": null,
      "outputs": []
    }
  ]
}