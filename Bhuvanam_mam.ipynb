{
  "nbformat": 4,
  "nbformat_minor": 0,
  "metadata": {
    "colab": {
      "provenance": [],
      "authorship_tag": "ABX9TyMRJaf9L8Gpec3Ux1fIbTR9",
      "include_colab_link": true
    },
    "kernelspec": {
      "name": "python3",
      "display_name": "Python 3"
    },
    "language_info": {
      "name": "python"
    }
  },
  "cells": [
    {
      "cell_type": "markdown",
      "metadata": {
        "id": "view-in-github",
        "colab_type": "text"
      },
      "source": [
        "<a href=\"https://colab.research.google.com/github/Boggavarapudeepthi/Python/blob/main/Bhuvanam_mam.ipynb\" target=\"_parent\"><img src=\"https://colab.research.google.com/assets/colab-badge.svg\" alt=\"Open In Colab\"/></a>"
      ]
    },
    {
      "cell_type": "code",
      "source": [
        "def calculate(a,b,c):\n",
        "    total=a+b+c #sum\n",
        "    average=total/3 #average\n",
        "    return total, average\n",
        "# calling the function\n",
        "result_sum,result_avg = calculate(10,20,30)\n",
        "\n",
        "print(\"sum =\",result_sum)\n",
        "print(\"average =\",result_avg)"
      ],
      "metadata": {
        "colab": {
          "base_uri": "https://localhost:8080/"
        },
        "id": "Di84nQXLzwT8",
        "outputId": "9688e658-7c19-4666-b5f3-46f43e58b57b"
      },
      "execution_count": null,
      "outputs": [
        {
          "output_type": "stream",
          "name": "stdout",
          "text": [
            "sum = 60\n",
            "average = 20.0\n"
          ]
        }
      ]
    },
    {
      "cell_type": "code",
      "source": [
        "def greet(name=\"Guest\", message=\"Welcome to python!\"):\n",
        "    print(f\"Hello{name}, {message} \")\n",
        "greet()\n",
        "greet(\" Deepthi \")\n",
        "greet(\" Deepthi \",\" Good to see you learning python! \")"
      ],
      "metadata": {
        "colab": {
          "base_uri": "https://localhost:8080/"
        },
        "id": "gFt1lYJL05p3",
        "outputId": "f31950a9-38e3-411f-c787-2fec7b14a644"
      },
      "execution_count": null,
      "outputs": [
        {
          "output_type": "stream",
          "name": "stdout",
          "text": [
            "HelloGuest, Welcome to python! \n",
            "Hello Deepthi , Welcome to python! \n",
            "Hello Deepthi ,  Good to see you learning python!  \n"
          ]
        }
      ]
    },
    {
      "cell_type": "code",
      "source": [
        "def string_length(s) :\n",
        "   count =0\n",
        "   for char in s:\n",
        "       count +=1\n",
        "   return count\n",
        "my_string =\"python\"\n",
        "print(\"The string is:\", my_string)\n",
        "print(\"Length of the string is:\", string_length(my_string))"
      ],
      "metadata": {
        "colab": {
          "base_uri": "https://localhost:8080/"
        },
        "id": "liRdx2ub3c4b",
        "outputId": "1f8cc6d2-484f-4d7d-a915-82ea6b9c6491"
      },
      "execution_count": null,
      "outputs": [
        {
          "output_type": "stream",
          "name": "stdout",
          "text": [
            "The string is: python\n",
            "Length of the string is: 6\n"
          ]
        }
      ]
    },
    {
      "cell_type": "code",
      "source": [
        "numbers = [10, 20, 5, 15, 30]\n",
        "print(\"original list:\", numbers)\n",
        "print(\"length of list:\", len(numbers))\n",
        "print(\"maximum element:\", max(numbers))\n",
        "print(\"minimum element:\", min(numbers))\n",
        "print(\"sum of all elements:\", sum(numbers))\n",
        "print(\"sorted list:\", sorted(numbers))"
      ],
      "metadata": {
        "colab": {
          "base_uri": "https://localhost:8080/"
        },
        "id": "MVajU3ex7wbq",
        "outputId": "efd11fec-1924-4777-a078-8fcda1f71cae"
      },
      "execution_count": null,
      "outputs": [
        {
          "output_type": "stream",
          "name": "stdout",
          "text": [
            "original list: [10, 20, 5, 15, 30]\n",
            "length of list: 5\n",
            "maximum element: 30\n",
            "minimum element: 5\n",
            "sum of all elements: 80\n",
            "sorted list: [5, 10, 15, 20, 30]\n"
          ]
        }
      ]
    }
  ]
}